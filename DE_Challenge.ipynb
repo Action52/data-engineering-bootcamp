{
 "cells": [
  {
   "cell_type": "markdown",
   "id": "c71b45d8",
   "metadata": {},
   "source": [
    "## Wizeline DE Coding Challenge"
   ]
  },
  {
   "cell_type": "markdown",
   "id": "92da28aa",
   "metadata": {},
   "source": [
    "As stated on this project's README, the objective of this notebook is to perform an exploratory analysis on the PROFECO dataset, a 20Gb csv file. The questions to answer are:\n",
    "- How many commercial chains are monitored, and therefore, included in this database?\n",
    "- What are the top 10 monitored products by State?\n",
    "- Which is the commercial chain with the highest number of monitored products?\n",
    "- Use the data to find an interesting fact.\n",
    "- What are the lessons learned from this exercise?\n",
    "- Can you identify other ways to approach this problem? Explain."
   ]
  },
  {
   "cell_type": "markdown",
   "id": "53151bb5",
   "metadata": {},
   "source": [
    "### Explore the subset"
   ]
  },
  {
   "cell_type": "markdown",
   "id": "7d033bd0",
   "metadata": {},
   "source": [
    "The project provides a sample subset of the original dataset. We are going to be working with it first in order to test the functions and perform an initial exploratory analysis on the subset. If everything goes fine, I'll test on the main dataset."
   ]
  },
  {
   "cell_type": "code",
   "execution_count": 1,
   "id": "c3152bd4",
   "metadata": {},
   "outputs": [],
   "source": [
    "# Imports\n",
    "import pandas as pd"
   ]
  },
  {
   "cell_type": "code",
   "execution_count": 2,
   "id": "c25361b7",
   "metadata": {},
   "outputs": [
    {
     "data": {
      "text/plain": [
       "(1999, 15)"
      ]
     },
     "execution_count": 2,
     "metadata": {},
     "output_type": "execute_result"
    }
   ],
   "source": [
    "sample = pd.read_csv(\"data/sample.csv\")\n",
    "sample.shape"
   ]
  },
  {
   "cell_type": "code",
   "execution_count": 3,
   "id": "7e50f297",
   "metadata": {},
   "outputs": [
    {
     "data": {
      "text/html": [
       "<div>\n",
       "<style scoped>\n",
       "    .dataframe tbody tr th:only-of-type {\n",
       "        vertical-align: middle;\n",
       "    }\n",
       "\n",
       "    .dataframe tbody tr th {\n",
       "        vertical-align: top;\n",
       "    }\n",
       "\n",
       "    .dataframe thead th {\n",
       "        text-align: right;\n",
       "    }\n",
       "</style>\n",
       "<table border=\"1\" class=\"dataframe\">\n",
       "  <thead>\n",
       "    <tr style=\"text-align: right;\">\n",
       "      <th></th>\n",
       "      <th>producto</th>\n",
       "      <th>presentacion</th>\n",
       "      <th>marca</th>\n",
       "      <th>categoria</th>\n",
       "      <th>catalogo</th>\n",
       "      <th>precio</th>\n",
       "      <th>fechaRegistro</th>\n",
       "      <th>cadenaComercial</th>\n",
       "      <th>giro</th>\n",
       "      <th>nombreComercial</th>\n",
       "      <th>direccion</th>\n",
       "      <th>estado</th>\n",
       "      <th>municipio</th>\n",
       "      <th>latitud</th>\n",
       "      <th>longitud</th>\n",
       "    </tr>\n",
       "  </thead>\n",
       "  <tbody>\n",
       "    <tr>\n",
       "      <th>0</th>\n",
       "      <td>CUADERNO FORMA ITALIANA</td>\n",
       "      <td>96 HOJAS PASTA DURA. CUADRICULA CHICA</td>\n",
       "      <td>ESTRELLA</td>\n",
       "      <td>MATERIAL ESCOLAR</td>\n",
       "      <td>UTILES ESCOLARES</td>\n",
       "      <td>25.9</td>\n",
       "      <td>2011-05-18 00:00:00.000</td>\n",
       "      <td>ABASTECEDORA LUMEN</td>\n",
       "      <td>PAPELERIAS</td>\n",
       "      <td>ABASTECEDORA LUMEN SUCURSAL VILLA COAPA</td>\n",
       "      <td>CANNES No. 6 ESQ. CANAL DE MIRAMONTES</td>\n",
       "      <td>DISTRITO FEDERAL</td>\n",
       "      <td>TLALPAN</td>\n",
       "      <td>19.29699</td>\n",
       "      <td>-99.125417</td>\n",
       "    </tr>\n",
       "    <tr>\n",
       "      <th>1</th>\n",
       "      <td>CRAYONES</td>\n",
       "      <td>CAJA 12 CERAS. JUMBO. C.B. 201423</td>\n",
       "      <td>CRAYOLA</td>\n",
       "      <td>MATERIAL ESCOLAR</td>\n",
       "      <td>UTILES ESCOLARES</td>\n",
       "      <td>27.5</td>\n",
       "      <td>2011-05-18 00:00:00.000</td>\n",
       "      <td>ABASTECEDORA LUMEN</td>\n",
       "      <td>PAPELERIAS</td>\n",
       "      <td>ABASTECEDORA LUMEN SUCURSAL VILLA COAPA</td>\n",
       "      <td>CANNES No. 6 ESQ. CANAL DE MIRAMONTES</td>\n",
       "      <td>DISTRITO FEDERAL</td>\n",
       "      <td>TLALPAN</td>\n",
       "      <td>19.29699</td>\n",
       "      <td>-99.125417</td>\n",
       "    </tr>\n",
       "    <tr>\n",
       "      <th>2</th>\n",
       "      <td>CRAYONES</td>\n",
       "      <td>CAJA 12 CERAS. TAMANO REGULAR C.B. 201034</td>\n",
       "      <td>CRAYOLA</td>\n",
       "      <td>MATERIAL ESCOLAR</td>\n",
       "      <td>UTILES ESCOLARES</td>\n",
       "      <td>13.9</td>\n",
       "      <td>2011-05-18 00:00:00.000</td>\n",
       "      <td>ABASTECEDORA LUMEN</td>\n",
       "      <td>PAPELERIAS</td>\n",
       "      <td>ABASTECEDORA LUMEN SUCURSAL VILLA COAPA</td>\n",
       "      <td>CANNES No. 6 ESQ. CANAL DE MIRAMONTES</td>\n",
       "      <td>DISTRITO FEDERAL</td>\n",
       "      <td>TLALPAN</td>\n",
       "      <td>19.29699</td>\n",
       "      <td>-99.125417</td>\n",
       "    </tr>\n",
       "    <tr>\n",
       "      <th>3</th>\n",
       "      <td>COLORES DE MADERA</td>\n",
       "      <td>CAJA 12 PIEZAS LARGO. TRIANGULAR. C.B. 640646</td>\n",
       "      <td>PINCELIN</td>\n",
       "      <td>MATERIAL ESCOLAR</td>\n",
       "      <td>UTILES ESCOLARES</td>\n",
       "      <td>46.9</td>\n",
       "      <td>2011-05-18 00:00:00.000</td>\n",
       "      <td>ABASTECEDORA LUMEN</td>\n",
       "      <td>PAPELERIAS</td>\n",
       "      <td>ABASTECEDORA LUMEN SUCURSAL VILLA COAPA</td>\n",
       "      <td>CANNES No. 6 ESQ. CANAL DE MIRAMONTES</td>\n",
       "      <td>DISTRITO FEDERAL</td>\n",
       "      <td>TLALPAN</td>\n",
       "      <td>19.29699</td>\n",
       "      <td>-99.125417</td>\n",
       "    </tr>\n",
       "    <tr>\n",
       "      <th>4</th>\n",
       "      <td>COLOR LARGO</td>\n",
       "      <td>CAJA 36 PIEZAS. CON SACAPUNTAS. 68-4036</td>\n",
       "      <td>CRAYOLA</td>\n",
       "      <td>MATERIAL ESCOLAR</td>\n",
       "      <td>UTILES ESCOLARES</td>\n",
       "      <td>115.0</td>\n",
       "      <td>2011-05-18 00:00:00.000</td>\n",
       "      <td>ABASTECEDORA LUMEN</td>\n",
       "      <td>PAPELERIAS</td>\n",
       "      <td>ABASTECEDORA LUMEN SUCURSAL VILLA COAPA</td>\n",
       "      <td>CANNES No. 6 ESQ. CANAL DE MIRAMONTES</td>\n",
       "      <td>DISTRITO FEDERAL</td>\n",
       "      <td>TLALPAN</td>\n",
       "      <td>19.29699</td>\n",
       "      <td>-99.125417</td>\n",
       "    </tr>\n",
       "  </tbody>\n",
       "</table>\n",
       "</div>"
      ],
      "text/plain": [
       "                  producto                                   presentacion  \\\n",
       "0  CUADERNO FORMA ITALIANA          96 HOJAS PASTA DURA. CUADRICULA CHICA   \n",
       "1                 CRAYONES              CAJA 12 CERAS. JUMBO. C.B. 201423   \n",
       "2                 CRAYONES      CAJA 12 CERAS. TAMANO REGULAR C.B. 201034   \n",
       "3        COLORES DE MADERA  CAJA 12 PIEZAS LARGO. TRIANGULAR. C.B. 640646   \n",
       "4              COLOR LARGO        CAJA 36 PIEZAS. CON SACAPUNTAS. 68-4036   \n",
       "\n",
       "      marca         categoria          catalogo  precio  \\\n",
       "0  ESTRELLA  MATERIAL ESCOLAR  UTILES ESCOLARES    25.9   \n",
       "1   CRAYOLA  MATERIAL ESCOLAR  UTILES ESCOLARES    27.5   \n",
       "2   CRAYOLA  MATERIAL ESCOLAR  UTILES ESCOLARES    13.9   \n",
       "3  PINCELIN  MATERIAL ESCOLAR  UTILES ESCOLARES    46.9   \n",
       "4   CRAYOLA  MATERIAL ESCOLAR  UTILES ESCOLARES   115.0   \n",
       "\n",
       "             fechaRegistro     cadenaComercial        giro  \\\n",
       "0  2011-05-18 00:00:00.000  ABASTECEDORA LUMEN  PAPELERIAS   \n",
       "1  2011-05-18 00:00:00.000  ABASTECEDORA LUMEN  PAPELERIAS   \n",
       "2  2011-05-18 00:00:00.000  ABASTECEDORA LUMEN  PAPELERIAS   \n",
       "3  2011-05-18 00:00:00.000  ABASTECEDORA LUMEN  PAPELERIAS   \n",
       "4  2011-05-18 00:00:00.000  ABASTECEDORA LUMEN  PAPELERIAS   \n",
       "\n",
       "                           nombreComercial  \\\n",
       "0  ABASTECEDORA LUMEN SUCURSAL VILLA COAPA   \n",
       "1  ABASTECEDORA LUMEN SUCURSAL VILLA COAPA   \n",
       "2  ABASTECEDORA LUMEN SUCURSAL VILLA COAPA   \n",
       "3  ABASTECEDORA LUMEN SUCURSAL VILLA COAPA   \n",
       "4  ABASTECEDORA LUMEN SUCURSAL VILLA COAPA   \n",
       "\n",
       "                               direccion            estado  \\\n",
       "0  CANNES No. 6 ESQ. CANAL DE MIRAMONTES  DISTRITO FEDERAL   \n",
       "1  CANNES No. 6 ESQ. CANAL DE MIRAMONTES  DISTRITO FEDERAL   \n",
       "2  CANNES No. 6 ESQ. CANAL DE MIRAMONTES  DISTRITO FEDERAL   \n",
       "3  CANNES No. 6 ESQ. CANAL DE MIRAMONTES  DISTRITO FEDERAL   \n",
       "4  CANNES No. 6 ESQ. CANAL DE MIRAMONTES  DISTRITO FEDERAL   \n",
       "\n",
       "                                  municipio   latitud   longitud  \n",
       "0  TLALPAN                                   19.29699 -99.125417  \n",
       "1  TLALPAN                                   19.29699 -99.125417  \n",
       "2  TLALPAN                                   19.29699 -99.125417  \n",
       "3  TLALPAN                                   19.29699 -99.125417  \n",
       "4  TLALPAN                                   19.29699 -99.125417  "
      ]
     },
     "execution_count": 3,
     "metadata": {},
     "output_type": "execute_result"
    }
   ],
   "source": [
    "sample.head()"
   ]
  },
  {
   "cell_type": "markdown",
   "id": "3cb8571f",
   "metadata": {},
   "source": [
    "Since the big dataset will be processed in chunks, I'm going to parse through the sample dataset with chunks as well, so I'm redefining it. But now I know that the shape should add to (1999, 15)."
   ]
  },
  {
   "cell_type": "code",
   "execution_count": 4,
   "id": "66118d91",
   "metadata": {},
   "outputs": [
    {
     "name": "stdout",
     "output_type": "stream",
     "text": [
      "0 (200, 15)\n",
      "1 (200, 15)\n",
      "2 (200, 15)\n",
      "3 (200, 15)\n",
      "4 (200, 15)\n",
      "5 (200, 15)\n",
      "6 (200, 15)\n",
      "7 (200, 15)\n",
      "8 (200, 15)\n",
      "9 (199, 15)\n"
     ]
    }
   ],
   "source": [
    "sample = pd.read_csv(\"data/sample.csv\", chunksize=200) # This should give me 10 chunks\n",
    "for i, chunk in enumerate(sample):\n",
    "    print(i, chunk.shape)\n",
    "sample = pd.read_csv(\"data/sample.csv\", chunksize=200) # Redifining because this is an iterable."
   ]
  },
  {
   "cell_type": "markdown",
   "id": "eba09f02",
   "metadata": {},
   "source": [
    "#### Designing the functions"
   ]
  },
  {
   "cell_type": "markdown",
   "id": "f147719f",
   "metadata": {},
   "source": [
    "My idea is to process the analysis questions on each chunk and add the answer on an aggregation DataFrame, so that I can easily calculate the general answer once I process the whole dataset. So now I'm going to create some helper functions that will calculate each analytical question."
   ]
  },
  {
   "cell_type": "markdown",
   "id": "2a6948c4",
   "metadata": {},
   "source": [
    "##### Question 1: Number of commercial chains"
   ]
  },
  {
   "cell_type": "markdown",
   "id": "4cefb729",
   "metadata": {},
   "source": [
    "The following function aggregates the unique set of commercial chains per chunk. This allows us to get the final aggregated total commercial chains at the end."
   ]
  },
  {
   "cell_type": "code",
   "execution_count": 5,
   "id": "0c8d9640",
   "metadata": {},
   "outputs": [],
   "source": [
    "def n_commercial_chains(chunk: pd.DataFrame, answer: pd.DataFrame, col_name=\"cadenaComercial\"):\n",
    "    \"\"\"\n",
    "        This function will calculate the number of commercial chains on the dataset.\n",
    "        It will query the chunk and add the commercial chains.\n",
    "        :param chunk: The incoming chunk we are going to process.\n",
    "        :param answer: The resulting answer DataFrame.\n",
    "        :param col_name: Name of the column on the csv.\n",
    "    \"\"\"\n",
    "    chains = pd.DataFrame(chunk[col_name].unique(), columns=[col_name]) # Get the unique chains on the chunk\n",
    "    return answer.append(chains)"
   ]
  },
  {
   "cell_type": "code",
   "execution_count": 6,
   "id": "d190af2d",
   "metadata": {},
   "outputs": [
    {
     "data": {
      "text/html": [
       "<div>\n",
       "<style scoped>\n",
       "    .dataframe tbody tr th:only-of-type {\n",
       "        vertical-align: middle;\n",
       "    }\n",
       "\n",
       "    .dataframe tbody tr th {\n",
       "        vertical-align: top;\n",
       "    }\n",
       "\n",
       "    .dataframe thead th {\n",
       "        text-align: right;\n",
       "    }\n",
       "</style>\n",
       "<table border=\"1\" class=\"dataframe\">\n",
       "  <thead>\n",
       "    <tr style=\"text-align: right;\">\n",
       "      <th></th>\n",
       "      <th>cadenaComercial</th>\n",
       "    </tr>\n",
       "  </thead>\n",
       "  <tbody>\n",
       "    <tr>\n",
       "      <th>0</th>\n",
       "      <td>ABASTECEDORA LUMEN</td>\n",
       "    </tr>\n",
       "    <tr>\n",
       "      <th>1</th>\n",
       "      <td>COMERCIAL MEXICANA</td>\n",
       "    </tr>\n",
       "    <tr>\n",
       "      <th>0</th>\n",
       "      <td>COMERCIAL MEXICANA</td>\n",
       "    </tr>\n",
       "    <tr>\n",
       "      <th>0</th>\n",
       "      <td>COMERCIAL MEXICANA</td>\n",
       "    </tr>\n",
       "    <tr>\n",
       "      <th>0</th>\n",
       "      <td>COMERCIAL MEXICANA</td>\n",
       "    </tr>\n",
       "  </tbody>\n",
       "</table>\n",
       "</div>"
      ],
      "text/plain": [
       "      cadenaComercial\n",
       "0  ABASTECEDORA LUMEN\n",
       "1  COMERCIAL MEXICANA\n",
       "0  COMERCIAL MEXICANA\n",
       "0  COMERCIAL MEXICANA\n",
       "0  COMERCIAL MEXICANA"
      ]
     },
     "execution_count": 6,
     "metadata": {},
     "output_type": "execute_result"
    }
   ],
   "source": [
    "answer = pd.DataFrame(columns=['cadenaComercial'])\n",
    "# Iterate through the chunks and extract the unique chains per chunk\n",
    "for chunk in sample:\n",
    "    answer = n_commercial_chains(chunk=chunk, answer=answer)\n",
    "answer.head()"
   ]
  },
  {
   "cell_type": "code",
   "execution_count": 7,
   "id": "32a94524",
   "metadata": {},
   "outputs": [
    {
     "name": "stdout",
     "output_type": "stream",
     "text": [
      "4\n"
     ]
    },
    {
     "data": {
      "text/html": [
       "<div>\n",
       "<style scoped>\n",
       "    .dataframe tbody tr th:only-of-type {\n",
       "        vertical-align: middle;\n",
       "    }\n",
       "\n",
       "    .dataframe tbody tr th {\n",
       "        vertical-align: top;\n",
       "    }\n",
       "\n",
       "    .dataframe thead th {\n",
       "        text-align: right;\n",
       "    }\n",
       "</style>\n",
       "<table border=\"1\" class=\"dataframe\">\n",
       "  <thead>\n",
       "    <tr style=\"text-align: right;\">\n",
       "      <th></th>\n",
       "      <th>cadenaComercial</th>\n",
       "    </tr>\n",
       "  </thead>\n",
       "  <tbody>\n",
       "    <tr>\n",
       "      <th>0</th>\n",
       "      <td>ABASTECEDORA LUMEN</td>\n",
       "    </tr>\n",
       "    <tr>\n",
       "      <th>1</th>\n",
       "      <td>COMERCIAL MEXICANA</td>\n",
       "    </tr>\n",
       "    <tr>\n",
       "      <th>2</th>\n",
       "      <td>I.S.S.S.T.E.</td>\n",
       "    </tr>\n",
       "    <tr>\n",
       "      <th>3</th>\n",
       "      <td>WAL-MART</td>\n",
       "    </tr>\n",
       "  </tbody>\n",
       "</table>\n",
       "</div>"
      ],
      "text/plain": [
       "      cadenaComercial\n",
       "0  ABASTECEDORA LUMEN\n",
       "1  COMERCIAL MEXICANA\n",
       "2        I.S.S.S.T.E.\n",
       "3            WAL-MART"
      ]
     },
     "execution_count": 7,
     "metadata": {},
     "output_type": "execute_result"
    }
   ],
   "source": [
    "# We extract the unique values on the resulting df. The shape will give us the number of unique chains.\n",
    "answer = pd.DataFrame(answer[\"cadenaComercial\"].unique(), columns=[\"cadenaComercial\"])\n",
    "unique_chains = answer.shape[0]\n",
    "print(unique_chains)\n",
    "answer"
   ]
  },
  {
   "cell_type": "markdown",
   "id": "70d7dbe7",
   "metadata": {},
   "source": [
    "##### Question 2: Top 10 products by state"
   ]
  },
  {
   "cell_type": "markdown",
   "id": "a06a0aa0",
   "metadata": {},
   "source": [
    "This code will create a helper column \"count\" on each chunk. Then we use panda's function groupby to create a custom grouping on 2D: products and states. The results of each grouping are added and then appended into the final dataframe. This final dataframe is finally grouped again and we extract the top 10 products with the helper function bellow."
   ]
  },
  {
   "cell_type": "code",
   "execution_count": 8,
   "id": "cdff9ea8",
   "metadata": {},
   "outputs": [],
   "source": [
    "def products_by_state(chunk: pd.DataFrame, answer: pd.DataFrame, \n",
    "                             product_col=\"producto\", state_col=\"estado\"):\n",
    "    \"\"\"\n",
    "        This function will get the aggregated count of products by state. This will result on a df where we will\n",
    "        later on compute the top 10 products.\n",
    "        :param chunk: The incoming chunk we are going to process.\n",
    "        :param answer: The resulting answer DataFrame.\n",
    "        :param product_col: Name of the column on the csv.\n",
    "        :param state_col: Name of the column on the csv.\n",
    "    \"\"\"\n",
    "    chunk[\"count\"] = 1\n",
    "    group = chunk.groupby([state_col, product_col], as_index=False)[\"count\"].sum()\n",
    "    answer = pd.concat([answer, group])\n",
    "    return answer"
   ]
  },
  {
   "cell_type": "code",
   "execution_count": 9,
   "id": "ce336e66",
   "metadata": {},
   "outputs": [],
   "source": [
    "sample = pd.read_csv(\"data/sample.csv\", chunksize=200) # Redifining because this is an iterable.\n",
    "answer = pd.DataFrame()\n",
    "for chunk in sample:\n",
    "    answer = products_by_state(chunk, answer)"
   ]
  },
  {
   "cell_type": "code",
   "execution_count": 10,
   "id": "fc4b7945",
   "metadata": {},
   "outputs": [
    {
     "data": {
      "text/html": [
       "<div>\n",
       "<style scoped>\n",
       "    .dataframe tbody tr th:only-of-type {\n",
       "        vertical-align: middle;\n",
       "    }\n",
       "\n",
       "    .dataframe tbody tr th {\n",
       "        vertical-align: top;\n",
       "    }\n",
       "\n",
       "    .dataframe thead th {\n",
       "        text-align: right;\n",
       "    }\n",
       "</style>\n",
       "<table border=\"1\" class=\"dataframe\">\n",
       "  <thead>\n",
       "    <tr style=\"text-align: right;\">\n",
       "      <th></th>\n",
       "      <th>estado</th>\n",
       "      <th>producto</th>\n",
       "      <th>count</th>\n",
       "    </tr>\n",
       "  </thead>\n",
       "  <tbody>\n",
       "    <tr>\n",
       "      <th>491</th>\n",
       "      <td>MÉXICO</td>\n",
       "      <td>REFRESCO</td>\n",
       "      <td>26</td>\n",
       "    </tr>\n",
       "    <tr>\n",
       "      <th>354</th>\n",
       "      <td>MÉXICO</td>\n",
       "      <td>DETERGENTE P/ROPA</td>\n",
       "      <td>24</td>\n",
       "    </tr>\n",
       "    <tr>\n",
       "      <th>508</th>\n",
       "      <td>MÉXICO</td>\n",
       "      <td>SHAMPOO</td>\n",
       "      <td>19</td>\n",
       "    </tr>\n",
       "    <tr>\n",
       "      <th>331</th>\n",
       "      <td>MÉXICO</td>\n",
       "      <td>CHILES EN LATA</td>\n",
       "      <td>18</td>\n",
       "    </tr>\n",
       "    <tr>\n",
       "      <th>422</th>\n",
       "      <td>MÉXICO</td>\n",
       "      <td>LECHE ULTRAPASTEURIZADA</td>\n",
       "      <td>17</td>\n",
       "    </tr>\n",
       "  </tbody>\n",
       "</table>\n",
       "</div>"
      ],
      "text/plain": [
       "     estado                 producto  count\n",
       "491  MÉXICO                 REFRESCO     26\n",
       "354  MÉXICO        DETERGENTE P/ROPA     24\n",
       "508  MÉXICO                  SHAMPOO     19\n",
       "331  MÉXICO           CHILES EN LATA     18\n",
       "422  MÉXICO  LECHE ULTRAPASTEURIZADA     17"
      ]
     },
     "execution_count": 10,
     "metadata": {},
     "output_type": "execute_result"
    }
   ],
   "source": [
    "final = pd.DataFrame(answer.groupby([\"estado\", \"producto\"], as_index=False)[\"count\"].sum()).sort_values(by=[\"estado\", \"count\"], ascending=False)\n",
    "final.head()"
   ]
  },
  {
   "cell_type": "code",
   "execution_count": 11,
   "id": "7df4df58",
   "metadata": {},
   "outputs": [],
   "source": [
    "def top_10_products_by_state(state, df):\n",
    "    \"\"\"\n",
    "        Returns the top 10 prods by state.\n",
    "        Assumes df is already procesed.\n",
    "        :param state: The name of the state\n",
    "        :param df: The df\n",
    "    \"\"\"\n",
    "    return df.loc[df[\"estado\"]==state][:10]"
   ]
  },
  {
   "cell_type": "code",
   "execution_count": 12,
   "id": "f1182135",
   "metadata": {},
   "outputs": [
    {
     "data": {
      "text/html": [
       "<div>\n",
       "<style scoped>\n",
       "    .dataframe tbody tr th:only-of-type {\n",
       "        vertical-align: middle;\n",
       "    }\n",
       "\n",
       "    .dataframe tbody tr th {\n",
       "        vertical-align: top;\n",
       "    }\n",
       "\n",
       "    .dataframe thead th {\n",
       "        text-align: right;\n",
       "    }\n",
       "</style>\n",
       "<table border=\"1\" class=\"dataframe\">\n",
       "  <thead>\n",
       "    <tr style=\"text-align: right;\">\n",
       "      <th></th>\n",
       "      <th>estado</th>\n",
       "      <th>producto</th>\n",
       "      <th>count</th>\n",
       "    </tr>\n",
       "  </thead>\n",
       "  <tbody>\n",
       "    <tr>\n",
       "      <th>491</th>\n",
       "      <td>MÉXICO</td>\n",
       "      <td>REFRESCO</td>\n",
       "      <td>26</td>\n",
       "    </tr>\n",
       "    <tr>\n",
       "      <th>354</th>\n",
       "      <td>MÉXICO</td>\n",
       "      <td>DETERGENTE P/ROPA</td>\n",
       "      <td>24</td>\n",
       "    </tr>\n",
       "    <tr>\n",
       "      <th>508</th>\n",
       "      <td>MÉXICO</td>\n",
       "      <td>SHAMPOO</td>\n",
       "      <td>19</td>\n",
       "    </tr>\n",
       "    <tr>\n",
       "      <th>331</th>\n",
       "      <td>MÉXICO</td>\n",
       "      <td>CHILES EN LATA</td>\n",
       "      <td>18</td>\n",
       "    </tr>\n",
       "    <tr>\n",
       "      <th>422</th>\n",
       "      <td>MÉXICO</td>\n",
       "      <td>LECHE ULTRAPASTEURIZADA</td>\n",
       "      <td>17</td>\n",
       "    </tr>\n",
       "  </tbody>\n",
       "</table>\n",
       "</div>"
      ],
      "text/plain": [
       "     estado                 producto  count\n",
       "491  MÉXICO                 REFRESCO     26\n",
       "354  MÉXICO        DETERGENTE P/ROPA     24\n",
       "508  MÉXICO                  SHAMPOO     19\n",
       "331  MÉXICO           CHILES EN LATA     18\n",
       "422  MÉXICO  LECHE ULTRAPASTEURIZADA     17"
      ]
     },
     "execution_count": 12,
     "metadata": {},
     "output_type": "execute_result"
    }
   ],
   "source": [
    "top_10_products_by_state(\"MÉXICO\", final).head()"
   ]
  },
  {
   "cell_type": "markdown",
   "id": "dcd20f7e",
   "metadata": {},
   "source": [
    "##### Question 3: Chain with most products."
   ]
  },
  {
   "cell_type": "markdown",
   "id": "a0b708d3",
   "metadata": {},
   "source": [
    "This piece of code, similarly to the previous ones, performs a grouping per chunk and then appends the result to a final dataframe. The main difference is that in here we are grouping on one dimension \"chain\" instead of two."
   ]
  },
  {
   "cell_type": "code",
   "execution_count": 13,
   "id": "0c4d7c4a",
   "metadata": {},
   "outputs": [],
   "source": [
    "def chain_w_most_products(chunk: pd.DataFrame, answer: pd.DataFrame, chain_col=\"cadenaComercial\"):\n",
    "    \"\"\"\n",
    "        This function will get the count of products per chain per chunk.\n",
    "        :param chunk: The incoming chunk we are going to process.\n",
    "        :param answer: The resulting answer DataFrame.\n",
    "        :param chain_col: Name of the column on the csv.\n",
    "    \"\"\"\n",
    "    chunk[\"count\"] = 1\n",
    "    group = chunk.groupby([chain_col], as_index=False)[\"count\"].sum()\n",
    "    answer = pd.concat([answer, group])\n",
    "    return answer"
   ]
  },
  {
   "cell_type": "code",
   "execution_count": 14,
   "id": "b30eaad6",
   "metadata": {},
   "outputs": [
    {
     "data": {
      "text/html": [
       "<div>\n",
       "<style scoped>\n",
       "    .dataframe tbody tr th:only-of-type {\n",
       "        vertical-align: middle;\n",
       "    }\n",
       "\n",
       "    .dataframe tbody tr th {\n",
       "        vertical-align: top;\n",
       "    }\n",
       "\n",
       "    .dataframe thead th {\n",
       "        text-align: right;\n",
       "    }\n",
       "</style>\n",
       "<table border=\"1\" class=\"dataframe\">\n",
       "  <thead>\n",
       "    <tr style=\"text-align: right;\">\n",
       "      <th></th>\n",
       "      <th>cadenaComercial</th>\n",
       "      <th>count</th>\n",
       "    </tr>\n",
       "  </thead>\n",
       "  <tbody>\n",
       "    <tr>\n",
       "      <th>1</th>\n",
       "      <td>COMERCIAL MEXICANA</td>\n",
       "      <td>1508</td>\n",
       "    </tr>\n",
       "    <tr>\n",
       "      <th>3</th>\n",
       "      <td>WAL-MART</td>\n",
       "      <td>287</td>\n",
       "    </tr>\n",
       "    <tr>\n",
       "      <th>2</th>\n",
       "      <td>I.S.S.S.T.E.</td>\n",
       "      <td>195</td>\n",
       "    </tr>\n",
       "    <tr>\n",
       "      <th>0</th>\n",
       "      <td>ABASTECEDORA LUMEN</td>\n",
       "      <td>9</td>\n",
       "    </tr>\n",
       "  </tbody>\n",
       "</table>\n",
       "</div>"
      ],
      "text/plain": [
       "      cadenaComercial  count\n",
       "1  COMERCIAL MEXICANA   1508\n",
       "3            WAL-MART    287\n",
       "2        I.S.S.S.T.E.    195\n",
       "0  ABASTECEDORA LUMEN      9"
      ]
     },
     "execution_count": 14,
     "metadata": {},
     "output_type": "execute_result"
    }
   ],
   "source": [
    "sample = pd.read_csv(\"data/sample.csv\", chunksize=200) # Redifining because this is an iterable.\n",
    "answer = pd.DataFrame()\n",
    "for chunk in sample:\n",
    "    answer = chain_w_most_products(chunk, answer)\n",
    "answer = pd.DataFrame(answer.groupby([\"cadenaComercial\"], as_index=False)[\"count\"].sum()).sort_values(by=[\"count\"], ascending=False)\n",
    "answer.head()"
   ]
  },
  {
   "cell_type": "markdown",
   "id": "15f63c78",
   "metadata": {},
   "source": [
    "##### Question 4: An interesting fact"
   ]
  },
  {
   "cell_type": "markdown",
   "id": "eeeb5089",
   "metadata": {},
   "source": [
    "I decided to get the number of products sold by state so that, in the future, I can plot a map possibly with Plotly's choropleth functionalities, where the strongest color will be for the states with the most products sold.\n",
    "Due to the lack of time, I will only calculate the dataframe."
   ]
  },
  {
   "cell_type": "code",
   "execution_count": 15,
   "id": "ba5b6cf8",
   "metadata": {},
   "outputs": [],
   "source": [
    "def interesting_fact(df: pd.DataFrame, answer: pd.DataFrame, state_col=\"estado\"):\n",
    "    \"\"\"\n",
    "        This function will get the interesting fact. I want to get the counts with \n",
    "        the states that sell more products.\n",
    "        :param df:  This method expects the result df from question 2.\n",
    "        :param answer: The resulting answer DataFrame.\n",
    "        :param chain_col: Name of the column on the csv.\n",
    "    \"\"\"\n",
    "    group = df.groupby([state_col], as_index=False)[\"count\"].sum()\n",
    "    answer = answer.append(group)\n",
    "    return answer"
   ]
  },
  {
   "cell_type": "code",
   "execution_count": 16,
   "id": "abdda94d",
   "metadata": {},
   "outputs": [
    {
     "data": {
      "text/html": [
       "<div>\n",
       "<style scoped>\n",
       "    .dataframe tbody tr th:only-of-type {\n",
       "        vertical-align: middle;\n",
       "    }\n",
       "\n",
       "    .dataframe tbody tr th {\n",
       "        vertical-align: top;\n",
       "    }\n",
       "\n",
       "    .dataframe thead th {\n",
       "        text-align: right;\n",
       "    }\n",
       "</style>\n",
       "<table border=\"1\" class=\"dataframe\">\n",
       "  <thead>\n",
       "    <tr style=\"text-align: right;\">\n",
       "      <th></th>\n",
       "      <th>estado</th>\n",
       "      <th>count</th>\n",
       "    </tr>\n",
       "  </thead>\n",
       "  <tbody>\n",
       "    <tr>\n",
       "      <th>0</th>\n",
       "      <td>DISTRITO FEDERAL</td>\n",
       "      <td>942</td>\n",
       "    </tr>\n",
       "    <tr>\n",
       "      <th>1</th>\n",
       "      <td>MÉXICO</td>\n",
       "      <td>1057</td>\n",
       "    </tr>\n",
       "  </tbody>\n",
       "</table>\n",
       "</div>"
      ],
      "text/plain": [
       "             estado  count\n",
       "0  DISTRITO FEDERAL    942\n",
       "1            MÉXICO   1057"
      ]
     },
     "execution_count": 16,
     "metadata": {},
     "output_type": "execute_result"
    }
   ],
   "source": [
    "answer = pd.DataFrame()\n",
    "interesting = interesting_fact(final, answer)\n",
    "interesting"
   ]
  },
  {
   "cell_type": "markdown",
   "id": "eb6514f7",
   "metadata": {},
   "source": [
    "##### Main function"
   ]
  },
  {
   "cell_type": "markdown",
   "id": "552a4954",
   "metadata": {},
   "source": [
    "This method will execute all the functions coded above and store them in their corresponding answer dataframes. This way we ensure that we only run over the original dataset only once."
   ]
  },
  {
   "cell_type": "code",
   "execution_count": 17,
   "id": "6198c98f",
   "metadata": {},
   "outputs": [],
   "source": [
    "import time\n",
    "def execute_all(main_df: pd.DataFrame):\n",
    "    \"\"\"\n",
    "        This function will execute the 4 queries while iterating through the chunks.\n",
    "    \"\"\"\n",
    "    start = time.time()\n",
    "    answer_1 = pd.DataFrame(columns=[\"cadenaComercial\"])\n",
    "    answer_2 = pd.DataFrame()\n",
    "    final_2 = pd.DataFrame()\n",
    "    final_ans_2 = pd.DataFrame()\n",
    "    answer_3 = pd.DataFrame()\n",
    "    answer_4 = pd.DataFrame()\n",
    "    # Iterate through the chunks and extract the unique chains per chunk\n",
    "    for i, chunk in enumerate(main_df):\n",
    "        # Question 1\n",
    "        answer_1 = n_commercial_chains(chunk=chunk, answer=answer_1)\n",
    "        answer_1 = pd.DataFrame(answer_1[\"cadenaComercial\"].unique(), columns=[\"cadenaComercial\"])\n",
    "        unique_chains = answer_1.shape[0]\n",
    "        # Question 2\n",
    "        answer_2 = products_by_state(chunk=chunk, answer=answer_2)\n",
    "        final_2 = pd.DataFrame(answer_2.groupby([\"estado\", \"producto\"], as_index=False)[\"count\"].sum()).sort_values(by=[\"estado\", \"count\"], ascending=False)\n",
    "        # Question 3\n",
    "        answer_3 = chain_w_most_products(chunk=chunk, answer=answer_3)\n",
    "        answer_3 = pd.DataFrame(answer_3.groupby([\"cadenaComercial\"], as_index=False)[\"count\"].sum()).sort_values(by=[\"count\"], ascending=False)\n",
    "        if i % 10000000 == 0:\n",
    "            print(i, time.time()-start)\n",
    "    # Question 4\n",
    "    answer_4 = interesting_fact(final_2, answer_4)\n",
    "    for state in final_2[\"estado\"].unique():\n",
    "        final_ans_2 = final_ans_2.append(top_10_products_by_state(state, final_2))\n",
    "    print(time.time() - start, \"total seconds of execution.\")\n",
    "    return answer_1, final_ans_2, answer_3, answer_4"
   ]
  },
  {
   "cell_type": "code",
   "execution_count": 18,
   "id": "d07e22d0",
   "metadata": {},
   "outputs": [
    {
     "name": "stdout",
     "output_type": "stream",
     "text": [
      "0 0.018651723861694336\n",
      "0.1742110252380371 total seconds of execution.\n"
     ]
    }
   ],
   "source": [
    "sample = pd.read_csv(\"data/sample.csv\", chunksize=200) # Redifining because this is an iterable.\n",
    "a1, a2, a3, a4 = execute_all(main_df=sample)"
   ]
  },
  {
   "cell_type": "code",
   "execution_count": 19,
   "id": "9aa910e3",
   "metadata": {},
   "outputs": [
    {
     "data": {
      "text/plain": [
       "(4, 1)"
      ]
     },
     "execution_count": 19,
     "metadata": {},
     "output_type": "execute_result"
    }
   ],
   "source": [
    "a1.shape"
   ]
  },
  {
   "cell_type": "code",
   "execution_count": 20,
   "id": "36e92a4a",
   "metadata": {},
   "outputs": [
    {
     "data": {
      "text/html": [
       "<div>\n",
       "<style scoped>\n",
       "    .dataframe tbody tr th:only-of-type {\n",
       "        vertical-align: middle;\n",
       "    }\n",
       "\n",
       "    .dataframe tbody tr th {\n",
       "        vertical-align: top;\n",
       "    }\n",
       "\n",
       "    .dataframe thead th {\n",
       "        text-align: right;\n",
       "    }\n",
       "</style>\n",
       "<table border=\"1\" class=\"dataframe\">\n",
       "  <thead>\n",
       "    <tr style=\"text-align: right;\">\n",
       "      <th></th>\n",
       "      <th>estado</th>\n",
       "      <th>producto</th>\n",
       "      <th>count</th>\n",
       "    </tr>\n",
       "  </thead>\n",
       "  <tbody>\n",
       "    <tr>\n",
       "      <th>491</th>\n",
       "      <td>MÉXICO</td>\n",
       "      <td>REFRESCO</td>\n",
       "      <td>26</td>\n",
       "    </tr>\n",
       "    <tr>\n",
       "      <th>354</th>\n",
       "      <td>MÉXICO</td>\n",
       "      <td>DETERGENTE P/ROPA</td>\n",
       "      <td>24</td>\n",
       "    </tr>\n",
       "    <tr>\n",
       "      <th>508</th>\n",
       "      <td>MÉXICO</td>\n",
       "      <td>SHAMPOO</td>\n",
       "      <td>19</td>\n",
       "    </tr>\n",
       "    <tr>\n",
       "      <th>331</th>\n",
       "      <td>MÉXICO</td>\n",
       "      <td>CHILES EN LATA</td>\n",
       "      <td>18</td>\n",
       "    </tr>\n",
       "    <tr>\n",
       "      <th>422</th>\n",
       "      <td>MÉXICO</td>\n",
       "      <td>LECHE ULTRAPASTEURIZADA</td>\n",
       "      <td>17</td>\n",
       "    </tr>\n",
       "  </tbody>\n",
       "</table>\n",
       "</div>"
      ],
      "text/plain": [
       "     estado                 producto  count\n",
       "491  MÉXICO                 REFRESCO     26\n",
       "354  MÉXICO        DETERGENTE P/ROPA     24\n",
       "508  MÉXICO                  SHAMPOO     19\n",
       "331  MÉXICO           CHILES EN LATA     18\n",
       "422  MÉXICO  LECHE ULTRAPASTEURIZADA     17"
      ]
     },
     "execution_count": 20,
     "metadata": {},
     "output_type": "execute_result"
    }
   ],
   "source": [
    "a2.head()"
   ]
  },
  {
   "cell_type": "code",
   "execution_count": 21,
   "id": "a82bc7e8",
   "metadata": {},
   "outputs": [
    {
     "data": {
      "text/html": [
       "<div>\n",
       "<style scoped>\n",
       "    .dataframe tbody tr th:only-of-type {\n",
       "        vertical-align: middle;\n",
       "    }\n",
       "\n",
       "    .dataframe tbody tr th {\n",
       "        vertical-align: top;\n",
       "    }\n",
       "\n",
       "    .dataframe thead th {\n",
       "        text-align: right;\n",
       "    }\n",
       "</style>\n",
       "<table border=\"1\" class=\"dataframe\">\n",
       "  <thead>\n",
       "    <tr style=\"text-align: right;\">\n",
       "      <th></th>\n",
       "      <th>cadenaComercial</th>\n",
       "      <th>count</th>\n",
       "    </tr>\n",
       "  </thead>\n",
       "  <tbody>\n",
       "    <tr>\n",
       "      <th>1</th>\n",
       "      <td>COMERCIAL MEXICANA</td>\n",
       "      <td>1508</td>\n",
       "    </tr>\n",
       "    <tr>\n",
       "      <th>3</th>\n",
       "      <td>WAL-MART</td>\n",
       "      <td>287</td>\n",
       "    </tr>\n",
       "    <tr>\n",
       "      <th>2</th>\n",
       "      <td>I.S.S.S.T.E.</td>\n",
       "      <td>195</td>\n",
       "    </tr>\n",
       "    <tr>\n",
       "      <th>0</th>\n",
       "      <td>ABASTECEDORA LUMEN</td>\n",
       "      <td>9</td>\n",
       "    </tr>\n",
       "  </tbody>\n",
       "</table>\n",
       "</div>"
      ],
      "text/plain": [
       "      cadenaComercial  count\n",
       "1  COMERCIAL MEXICANA   1508\n",
       "3            WAL-MART    287\n",
       "2        I.S.S.S.T.E.    195\n",
       "0  ABASTECEDORA LUMEN      9"
      ]
     },
     "execution_count": 21,
     "metadata": {},
     "output_type": "execute_result"
    }
   ],
   "source": [
    "a3.head()"
   ]
  },
  {
   "cell_type": "code",
   "execution_count": 22,
   "id": "cb441b9e",
   "metadata": {},
   "outputs": [
    {
     "data": {
      "text/html": [
       "<div>\n",
       "<style scoped>\n",
       "    .dataframe tbody tr th:only-of-type {\n",
       "        vertical-align: middle;\n",
       "    }\n",
       "\n",
       "    .dataframe tbody tr th {\n",
       "        vertical-align: top;\n",
       "    }\n",
       "\n",
       "    .dataframe thead th {\n",
       "        text-align: right;\n",
       "    }\n",
       "</style>\n",
       "<table border=\"1\" class=\"dataframe\">\n",
       "  <thead>\n",
       "    <tr style=\"text-align: right;\">\n",
       "      <th></th>\n",
       "      <th>estado</th>\n",
       "      <th>count</th>\n",
       "    </tr>\n",
       "  </thead>\n",
       "  <tbody>\n",
       "    <tr>\n",
       "      <th>0</th>\n",
       "      <td>DISTRITO FEDERAL</td>\n",
       "      <td>942</td>\n",
       "    </tr>\n",
       "    <tr>\n",
       "      <th>1</th>\n",
       "      <td>MÉXICO</td>\n",
       "      <td>1057</td>\n",
       "    </tr>\n",
       "  </tbody>\n",
       "</table>\n",
       "</div>"
      ],
      "text/plain": [
       "             estado  count\n",
       "0  DISTRITO FEDERAL    942\n",
       "1            MÉXICO   1057"
      ]
     },
     "execution_count": 22,
     "metadata": {},
     "output_type": "execute_result"
    }
   ],
   "source": [
    "a4.head()"
   ]
  },
  {
   "cell_type": "markdown",
   "id": "4ad20375",
   "metadata": {},
   "source": [
    "### Run on the main dataset"
   ]
  },
  {
   "cell_type": "markdown",
   "id": "0c0e1bf9",
   "metadata": {},
   "source": [
    "I'm going to run the code with 1 million as my chunk size. Pandas is based on numpy so I'm pretty confident my memory will be able to efficiently hold this data without breaking. However it is still necessary to set the low_memory parameter to False."
   ]
  },
  {
   "cell_type": "code",
   "execution_count": 23,
   "id": "bd2c9d09",
   "metadata": {},
   "outputs": [
    {
     "name": "stdout",
     "output_type": "stream",
     "text": [
      "0 4.410244941711426\n",
      "245.44243001937866 total seconds of execution.\n"
     ]
    }
   ],
   "source": [
    "maindf = pd.read_csv(\"../../Downloads/profeco.zip\", \n",
    "                     chunksize=1000000, compression=\"zip\", low_memory=False)\n",
    "a1, a2, a3, a4 = execute_all(main_df=maindf)"
   ]
  },
  {
   "cell_type": "markdown",
   "id": "da992139",
   "metadata": {},
   "source": [
    "#### Question 1 Answer:"
   ]
  },
  {
   "cell_type": "markdown",
   "id": "654e1d28",
   "metadata": {},
   "source": [
    "The a1 df holds the aggregation of all the unique chains on the dataset."
   ]
  },
  {
   "cell_type": "code",
   "execution_count": 24,
   "id": "b42377ad",
   "metadata": {},
   "outputs": [
    {
     "name": "stdout",
     "output_type": "stream",
     "text": [
      "Shape: (706, 1)\n"
     ]
    },
    {
     "data": {
      "text/html": [
       "<div>\n",
       "<style scoped>\n",
       "    .dataframe tbody tr th:only-of-type {\n",
       "        vertical-align: middle;\n",
       "    }\n",
       "\n",
       "    .dataframe tbody tr th {\n",
       "        vertical-align: top;\n",
       "    }\n",
       "\n",
       "    .dataframe thead th {\n",
       "        text-align: right;\n",
       "    }\n",
       "</style>\n",
       "<table border=\"1\" class=\"dataframe\">\n",
       "  <thead>\n",
       "    <tr style=\"text-align: right;\">\n",
       "      <th></th>\n",
       "      <th>cadenaComercial</th>\n",
       "    </tr>\n",
       "  </thead>\n",
       "  <tbody>\n",
       "    <tr>\n",
       "      <th>0</th>\n",
       "      <td>ABASTECEDORA LUMEN</td>\n",
       "    </tr>\n",
       "    <tr>\n",
       "      <th>1</th>\n",
       "      <td>COMERCIAL MEXICANA</td>\n",
       "    </tr>\n",
       "    <tr>\n",
       "      <th>2</th>\n",
       "      <td>I.S.S.S.T.E.</td>\n",
       "    </tr>\n",
       "    <tr>\n",
       "      <th>3</th>\n",
       "      <td>WAL-MART</td>\n",
       "    </tr>\n",
       "    <tr>\n",
       "      <th>4</th>\n",
       "      <td>TORTILLERIAS TRADICIONALES</td>\n",
       "    </tr>\n",
       "  </tbody>\n",
       "</table>\n",
       "</div>"
      ],
      "text/plain": [
       "              cadenaComercial\n",
       "0          ABASTECEDORA LUMEN\n",
       "1          COMERCIAL MEXICANA\n",
       "2                I.S.S.S.T.E.\n",
       "3                    WAL-MART\n",
       "4  TORTILLERIAS TRADICIONALES"
      ]
     },
     "execution_count": 24,
     "metadata": {},
     "output_type": "execute_result"
    }
   ],
   "source": [
    "print(\"Shape:\", a1.shape)\n",
    "a1.head()"
   ]
  },
  {
   "cell_type": "markdown",
   "id": "4bcadb4b",
   "metadata": {},
   "source": [
    "Is the same as:"
   ]
  },
  {
   "cell_type": "code",
   "execution_count": 25,
   "id": "11a3562c",
   "metadata": {},
   "outputs": [
    {
     "data": {
      "text/plain": [
       "(706,)"
      ]
     },
     "execution_count": 25,
     "metadata": {},
     "output_type": "execute_result"
    }
   ],
   "source": [
    "a1['cadenaComercial'].unique().shape"
   ]
  },
  {
   "cell_type": "markdown",
   "id": "abc54422",
   "metadata": {},
   "source": [
    "#### Question 2 Answer:"
   ]
  },
  {
   "cell_type": "markdown",
   "id": "897d2d8a",
   "metadata": {},
   "source": [
    "The top 10 products per state can be checked on the a2 df. The df is stacked so let's query a couple of the results."
   ]
  },
  {
   "cell_type": "code",
   "execution_count": 26,
   "id": "b2fc50e5",
   "metadata": {},
   "outputs": [
    {
     "data": {
      "text/plain": [
       "<AxesSubplot:xlabel='producto'>"
      ]
     },
     "execution_count": 26,
     "metadata": {},
     "output_type": "execute_result"
    },
    {
     "data": {
      "image/png": "[encoded data removed]",
      "text/plain": [
       "<Figure size 432x288 with 1 Axes>"
      ]
     },
     "metadata": {
      "needs_background": "light"
     },
     "output_type": "display_data"
    }
   ],
   "source": [
    "a2.loc[a2[\"estado\"]==\"PUEBLA\"].plot.bar(x=\"producto\", y=\"count\")"
   ]
  },
  {
   "cell_type": "code",
   "execution_count": 27,
   "id": "1e462cad",
   "metadata": {},
   "outputs": [
    {
     "data": {
      "text/plain": [
       "<AxesSubplot:xlabel='producto'>"
      ]
     },
     "execution_count": 27,
     "metadata": {},
     "output_type": "execute_result"
    },
    {
     "data": {
      "image/png": "[encoded data removed]",
      "text/plain": [
       "<Figure size 432x288 with 1 Axes>"
      ]
     },
     "metadata": {
      "needs_background": "light"
     },
     "output_type": "display_data"
    }
   ],
   "source": [
    "a2.loc[a2[\"estado\"]==\"YUCATÁN\"].plot.bar(x=\"producto\", y=\"count\")"
   ]
  },
  {
   "cell_type": "markdown",
   "id": "adf2dd2f",
   "metadata": {},
   "source": [
    "#### Question 3 Answer:"
   ]
  },
  {
   "cell_type": "markdown",
   "id": "22518071",
   "metadata": {},
   "source": [
    "Similarly to the previous question, the resulting aggregated df holds the count of products per commercial chain.\n",
    "We can extract the max by either sorting and extracting the first row or by using the max function."
   ]
  },
  {
   "cell_type": "code",
   "execution_count": 34,
   "id": "a9686a2c",
   "metadata": {},
   "outputs": [
    {
     "data": {
      "text/html": [
       "<div>\n",
       "<style scoped>\n",
       "    .dataframe tbody tr th:only-of-type {\n",
       "        vertical-align: middle;\n",
       "    }\n",
       "\n",
       "    .dataframe tbody tr th {\n",
       "        vertical-align: top;\n",
       "    }\n",
       "\n",
       "    .dataframe thead th {\n",
       "        text-align: right;\n",
       "    }\n",
       "</style>\n",
       "<table border=\"1\" class=\"dataframe\">\n",
       "  <thead>\n",
       "    <tr style=\"text-align: right;\">\n",
       "      <th></th>\n",
       "      <th>cadenaComercial</th>\n",
       "      <th>count</th>\n",
       "    </tr>\n",
       "  </thead>\n",
       "  <tbody>\n",
       "    <tr>\n",
       "      <th>683</th>\n",
       "      <td>WAL-MART</td>\n",
       "      <td>8643133</td>\n",
       "    </tr>\n",
       "    <tr>\n",
       "      <th>38</th>\n",
       "      <td>BODEGA AURRERA</td>\n",
       "      <td>6765453</td>\n",
       "    </tr>\n",
       "    <tr>\n",
       "      <th>574</th>\n",
       "      <td>SORIANA</td>\n",
       "      <td>6546211</td>\n",
       "    </tr>\n",
       "    <tr>\n",
       "      <th>301</th>\n",
       "      <td>MEGA COMERCIAL MEXICANA</td>\n",
       "      <td>4899509</td>\n",
       "    </tr>\n",
       "    <tr>\n",
       "      <th>58</th>\n",
       "      <td>CHEDRAUI</td>\n",
       "      <td>4221625</td>\n",
       "    </tr>\n",
       "  </tbody>\n",
       "</table>\n",
       "</div>"
      ],
      "text/plain": [
       "             cadenaComercial    count\n",
       "683                 WAL-MART  8643133\n",
       "38            BODEGA AURRERA  6765453\n",
       "574                  SORIANA  6546211\n",
       "301  MEGA COMERCIAL MEXICANA  4899509\n",
       "58                  CHEDRAUI  4221625"
      ]
     },
     "execution_count": 34,
     "metadata": {},
     "output_type": "execute_result"
    }
   ],
   "source": [
    "a3.sort_values(by=\"count\", ascending=False).head()"
   ]
  },
  {
   "cell_type": "markdown",
   "id": "9c71a579",
   "metadata": {},
   "source": [
    "#### Question 4 Answer:"
   ]
  },
  {
   "cell_type": "markdown",
   "id": "0acf2488",
   "metadata": {},
   "source": [
    "As stated before, the interesting fact I want to calculate is basically get an idea of the states that consume more products in total. This is interesting because it could be plotted into a geojson of Mexico, observing the differences between the states and how much products are offered. It could be interesting as well to compare against the real population in those states and see if there is any correlation between the number of products offered vs the number of citizens per state."
   ]
  },
  {
   "cell_type": "code",
   "execution_count": 29,
   "id": "8335aa0c",
   "metadata": {},
   "outputs": [
    {
     "data": {
      "text/html": [
       "<div>\n",
       "<style scoped>\n",
       "    .dataframe tbody tr th:only-of-type {\n",
       "        vertical-align: middle;\n",
       "    }\n",
       "\n",
       "    .dataframe tbody tr th {\n",
       "        vertical-align: top;\n",
       "    }\n",
       "\n",
       "    .dataframe thead th {\n",
       "        text-align: right;\n",
       "    }\n",
       "</style>\n",
       "<table border=\"1\" class=\"dataframe\">\n",
       "  <thead>\n",
       "    <tr style=\"text-align: right;\">\n",
       "      <th></th>\n",
       "      <th>estado</th>\n",
       "      <th>count</th>\n",
       "    </tr>\n",
       "  </thead>\n",
       "  <tbody>\n",
       "    <tr>\n",
       "      <th>8</th>\n",
       "      <td>DISTRITO FEDERAL</td>\n",
       "      <td>11284102</td>\n",
       "    </tr>\n",
       "    <tr>\n",
       "      <th>16</th>\n",
       "      <td>MÉXICO</td>\n",
       "      <td>8173302</td>\n",
       "    </tr>\n",
       "    <tr>\n",
       "      <th>13</th>\n",
       "      <td>JALISCO</td>\n",
       "      <td>4552128</td>\n",
       "    </tr>\n",
       "    <tr>\n",
       "      <th>18</th>\n",
       "      <td>NUEVO LEÓN</td>\n",
       "      <td>3171091</td>\n",
       "    </tr>\n",
       "    <tr>\n",
       "      <th>10</th>\n",
       "      <td>GUANAJUATO</td>\n",
       "      <td>2638456</td>\n",
       "    </tr>\n",
       "  </tbody>\n",
       "</table>\n",
       "</div>"
      ],
      "text/plain": [
       "              estado     count\n",
       "8   DISTRITO FEDERAL  11284102\n",
       "16            MÉXICO   8173302\n",
       "13           JALISCO   4552128\n",
       "18        NUEVO LEÓN   3171091\n",
       "10        GUANAJUATO   2638456"
      ]
     },
     "execution_count": 29,
     "metadata": {},
     "output_type": "execute_result"
    }
   ],
   "source": [
    "a4.sort_values(by=\"count\", ascending=False).head()"
   ]
  },
  {
   "cell_type": "markdown",
   "id": "04e1d9e7",
   "metadata": {},
   "source": [
    "#### Lessons Learned"
   ]
  },
  {
   "cell_type": "markdown",
   "id": "a8b00dab",
   "metadata": {},
   "source": [
    "Pandas is such a powerful tool it always surprises me. The main lesson I have learnt is that when parsing a huge dataset such as this one it is often a good idea to have a plan, and if possible, code the analysis in such a way that you can cover as many answers as possible with only one iteration. Oftentimes this makes the difference between a code that takes some minutes against a code that takes hours.  \n",
    "\n",
    "Also, I enjoyed working with a ziped csv, I haven't done that before but it's a great tool provided by pandas."
   ]
  },
  {
   "cell_type": "markdown",
   "id": "0e327af1",
   "metadata": {},
   "source": [
    "#### Other approaches"
   ]
  },
  {
   "cell_type": "markdown",
   "id": "842fe6bb",
   "metadata": {},
   "source": [
    "I think that performing an analysis on this dataset could be possible since it is semi structured, however I would suggest performing an ETL job into a database specifically designed for analysis like Cassandra or Redshift, and reestructure the schema into a star o snowflake schema if possible.\n",
    "\n",
    "The idea that comes to my mind is to first design a fact/dimension schema for Redshift, populate it with the csv, and structure it in such a way that each data cluster is leveraged. For example, by creating a distribution key of (state, product) for the second query. This would enhance the processing time when querying, even though it would slow down the writing time."
   ]
  }
 ],
 "metadata": {
  "kernelspec": {
   "display_name": "Python 3 (ipykernel)",
   "language": "python",
   "name": "python3"
  },
  "language_info": {
   "codemirror_mode": {
    "name": "ipython",
    "version": 3
   },
   "file_extension": ".py",
   "mimetype": "text/x-python",
   "name": "python",
   "nbconvert_exporter": "python",
   "pygments_lexer": "ipython3",
   "version": "3.7.11"
  }
 },
 "nbformat": 4,
 "nbformat_minor": 5
}
